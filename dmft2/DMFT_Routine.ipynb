{
 "cells": [
  {
   "cell_type": "code",
   "execution_count": 1,
   "id": "3aba4c97",
   "metadata": {},
   "outputs": [],
   "source": [
    "import numpy as np\n",
    "from qiskit import QuantumCircuit, QuantumRegister\n",
    "from qiskit_aer import AerSimulator, Aer\n",
    "from qiskit.quantum_info import Pauli, SparsePauliOp, Operator, Statevector\n",
    "from scipy.optimize import curve_fit\n",
    "import matplotlib.pyplot as plt\n",
    "from scipy.linalg import expm, fractional_matrix_power\n",
    "from qiskit.compiler import transpile"
   ]
  },
  {
   "cell_type": "code",
   "execution_count": 2,
   "id": "2f6985c4",
   "metadata": {},
   "outputs": [],
   "source": [
    "# Define parameters\n",
    "U_range = np.linspace(1,10,10) # Range of U values\n",
    "V_init = 10.0  # Initial guess for V\n"
   ]
  },
  {
   "cell_type": "code",
   "execution_count": 3,
   "id": "900eaad6",
   "metadata": {},
   "outputs": [],
   "source": [
    "def get_siam_hamiltonian(U,V):\n",
    "    # Define the Hamiltonian using tensor products of Pauli operators\n",
    "    H = SparsePauliOp.from_list([(\"ZIZI\", U/4), (\"XXII\", V/2),(\"YYII\",V/2),(\"IIXX\",V/2),(\"IIYY\",V/2)])\n",
    "    return H.to_matrix()\n",
    "\n",
    "# ham = get_siam_hamiltonian(1,1)\n",
    "# print(ham)"
   ]
  },
  {
   "cell_type": "code",
   "execution_count": 64,
   "id": "919041ec",
   "metadata": {},
   "outputs": [],
   "source": [
    "def trotter_step(H, dt):\n",
    "    return expm(-1j * dt * H)  # Trotter approx.\n",
    "\n",
    "def greens_function(U, V, times, num_trotter_steps=20):\n",
    "    H_matrix = get_siam_hamiltonian(U,V)\n",
    "    #print(H_matrix)\n",
    "    dt = times[1] - times[0]  # Small time step for trotterization\n",
    "    U_t = trotter_step(H_matrix, dt / num_trotter_steps)  # Approximate evolution\n",
    "  \n",
    "\n",
    "    simulator = AerSimulator()\n",
    "    greens_vals = []\n",
    "\n",
    "\n",
    "    qc = QuantumCircuit(4)\n",
    "\n",
    "    qc.h(0)\n",
    "    initial_state = Statevector.from_instruction(qc).data.reshape(-1, 1)\n",
    "    #print(\"initial_state\", initial_state)\n",
    "    \n",
    "    X1 = Pauli(\"IIIX\").to_matrix()\n",
    "    #print('X1', X1)\n",
    "\n",
    "    for t in times:\n",
    "        evolved_state = U_t @ initial_state @ U_t.conj()\n",
    "#         print(\"u conj: \", U_t.conj())\n",
    "#         print(\"evolved state\", evolved_state)\n",
    "        expectation_value = np.real(np.conj(evolved_state.T) @ X1 @ evolved_state)\n",
    "        #print('expectation value', expctation_value)\n",
    "        greens_vals.append(expectation_value)\n",
    "    #print('greens vals', greens_vals)\n",
    "    return greens_vals\n",
    "\n"
   ]
  },
  {
   "cell_type": "code",
   "execution_count": 65,
   "id": "5ced9fc2",
   "metadata": {},
   "outputs": [],
   "source": [
    "def fit_greens_function(times, greens_values):\n",
    "    greens_values = np.array(greens_values, dtype=float).flatten()\n",
    "    times = np.array(times, dtype=float).flatten()\n",
    "    greens_values = np.nan_to_num(greens_values, nan=0.0, posinf=0.0, neginf=0.0)\n",
    "\n",
    "    def model(t, a, w, m):\n",
    "        return a * np.cos(w * t) + (1 - a) * np.cos(m * t)\n",
    "\n",
    "    params, _ = curve_fit(model, times, greens_values)\n",
    "    return params  # [a, w, m]"
   ]
  },
  {
   "cell_type": "code",
   "execution_count": 66,
   "id": "570eac7f",
   "metadata": {},
   "outputs": [],
   "source": [
    "def calculate_quasiparticle_weight(V, a, w, m):\n",
    "    denom = V**4 * ((a / w**4) + ((1 - a) / m**4))\n",
    "    if denom == 0:\n",
    "        denom = 1e-6  # Avoid division by zero\n",
    "    return 1 / denom"
   ]
  },
  {
   "cell_type": "code",
   "execution_count": 67,
   "id": "445365cd",
   "metadata": {},
   "outputs": [],
   "source": [
    "def self_consistency(V, Z, tolerance=1e-6):\n",
    "    return np.abs(V**2 - Z) <= tolerance"
   ]
  },
  {
   "cell_type": "code",
   "execution_count": 68,
   "id": "6bd36f3a",
   "metadata": {},
   "outputs": [
    {
     "ename": "ValueError",
     "evalue": "matmul: Input operand 1 has a mismatch in its core dimension 0, with gufunc signature (n?,k),(k,m?)->(n?,m?) (size 16 is different from 1)",
     "output_type": "error",
     "traceback": [
      "\u001b[1;31m---------------------------------------------------------------------------\u001b[0m",
      "\u001b[1;31mValueError\u001b[0m                                Traceback (most recent call last)",
      "Cell \u001b[1;32mIn[68], line 21\u001b[0m\n\u001b[0;32m     15\u001b[0m         Z_values\u001b[38;5;241m.\u001b[39mappend(Z)\n\u001b[0;32m     17\u001b[0m     \u001b[38;5;28;01mreturn\u001b[39;00m Z_values\n\u001b[1;32m---> 21\u001b[0m Z_values \u001b[38;5;241m=\u001b[39m dmft_routine(U_range, V_init)\n\u001b[0;32m     23\u001b[0m plt\u001b[38;5;241m.\u001b[39mplot(U_range, Z_values, marker\u001b[38;5;241m=\u001b[39m\u001b[38;5;124m\"\u001b[39m\u001b[38;5;124mo\u001b[39m\u001b[38;5;124m\"\u001b[39m)\n\u001b[0;32m     24\u001b[0m plt\u001b[38;5;241m.\u001b[39mxlabel(\u001b[38;5;124m\"\u001b[39m\u001b[38;5;124mImpurity On-Site Interaction Energy (U)\u001b[39m\u001b[38;5;124m\"\u001b[39m)\n",
      "Cell \u001b[1;32mIn[68], line 8\u001b[0m, in \u001b[0;36mdmft_routine\u001b[1;34m(U_range, V_init, max_iters, tolerance)\u001b[0m\n\u001b[0;32m      6\u001b[0m V \u001b[38;5;241m=\u001b[39m V_init\n\u001b[0;32m      7\u001b[0m \u001b[38;5;28;01mfor\u001b[39;00m _ \u001b[38;5;129;01min\u001b[39;00m \u001b[38;5;28mrange\u001b[39m(max_iters): \n\u001b[1;32m----> 8\u001b[0m     greens_vals \u001b[38;5;241m=\u001b[39m greens_function(U, V, times)\n\u001b[0;32m      9\u001b[0m     a, w, m \u001b[38;5;241m=\u001b[39m fit_greens_function(times, greens_vals)\n\u001b[0;32m     10\u001b[0m     Z \u001b[38;5;241m=\u001b[39m calculate_quasiparticle_weight(V, a, w, m)\n",
      "Cell \u001b[1;32mIn[64], line 25\u001b[0m, in \u001b[0;36mgreens_function\u001b[1;34m(U, V, times, num_trotter_steps)\u001b[0m\n\u001b[0;32m     22\u001b[0m     \u001b[38;5;66;03m#print('X1', X1)\u001b[39;00m\n\u001b[0;32m     24\u001b[0m     \u001b[38;5;28;01mfor\u001b[39;00m t \u001b[38;5;129;01min\u001b[39;00m times:\n\u001b[1;32m---> 25\u001b[0m         evolved_state \u001b[38;5;241m=\u001b[39m U_t \u001b[38;5;241m@\u001b[39m initial_state \u001b[38;5;241m@\u001b[39m U_t\u001b[38;5;241m.\u001b[39mconj()\n\u001b[0;32m     26\u001b[0m \u001b[38;5;66;03m#         print(\"u conj: \", U_t.conj())\u001b[39;00m\n\u001b[0;32m     27\u001b[0m \u001b[38;5;66;03m#         print(\"evolved state\", evolved_state)\u001b[39;00m\n\u001b[0;32m     28\u001b[0m         expectation_value \u001b[38;5;241m=\u001b[39m np\u001b[38;5;241m.\u001b[39mreal(np\u001b[38;5;241m.\u001b[39mconj(evolved_state\u001b[38;5;241m.\u001b[39mT) \u001b[38;5;241m@\u001b[39m X1 \u001b[38;5;241m@\u001b[39m evolved_state)\n",
      "\u001b[1;31mValueError\u001b[0m: matmul: Input operand 1 has a mismatch in its core dimension 0, with gufunc signature (n?,k),(k,m?)->(n?,m?) (size 16 is different from 1)"
     ]
    }
   ],
   "source": [
    "def dmft_routine(U_range, V_init, max_iters=50, tolerance=1e-6):\n",
    "    times = np.linspace(0, 10, 50)\n",
    "    Z_values = []\n",
    "\n",
    "    for U in U_range:\n",
    "        V = V_init\n",
    "        for _ in range(max_iters): \n",
    "            greens_vals = greens_function(U, V, times)\n",
    "            a, w, m = fit_greens_function(times, greens_vals)\n",
    "            Z = calculate_quasiparticle_weight(V, a, w, m)\n",
    "\n",
    "            if self_consistency(V, Z, tolerance):\n",
    "                break \n",
    "            V = np.sqrt(Z)\n",
    "        Z_values.append(Z)\n",
    "\n",
    "    return Z_values\n",
    "\n",
    "\n",
    "\n",
    "Z_values = dmft_routine(U_range, V_init)\n",
    "\n",
    "plt.plot(U_range, Z_values, marker=\"o\")\n",
    "plt.xlabel(\"Impurity On-Site Interaction Energy (U)\")\n",
    "plt.ylabel(\"Quasiparticle Weight (Z)\")\n",
    "plt.title(\"Quasiparticle Weight vs U\")\n",
    "plt.grid()\n",
    "plt.show()"
   ]
  },
  {
   "cell_type": "code",
   "execution_count": null,
   "id": "21d4baf3",
   "metadata": {},
   "outputs": [],
   "source": []
  }
 ],
 "metadata": {
  "kernelspec": {
   "display_name": "Python 3 (ipykernel)",
   "language": "python",
   "name": "python3"
  },
  "language_info": {
   "codemirror_mode": {
    "name": "ipython",
    "version": 3
   },
   "file_extension": ".py",
   "mimetype": "text/x-python",
   "name": "python",
   "nbconvert_exporter": "python",
   "pygments_lexer": "ipython3",
   "version": "3.11.4"
  }
 },
 "nbformat": 4,
 "nbformat_minor": 5
}
